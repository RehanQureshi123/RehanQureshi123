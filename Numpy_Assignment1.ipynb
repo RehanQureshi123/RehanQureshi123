{
  "cells": [
    {
      "cell_type": "markdown",
      "metadata": {
        "id": "UZXjlass3ARu"
      },
      "source": [
        "\n",
        "# **1. Basic Array Manipulation:**\n"
      ]
    },
    {
      "cell_type": "markdown",
      "metadata": {
        "id": "tDWPQRm23C7o"
      },
      "source": [
        "Create a 1D array with values ranging from 0 to 9.\n"
      ]
    },
    {
      "cell_type": "code",
      "execution_count": 1,
      "metadata": {
        "id": "OvGF66_02Q8H"
      },
      "outputs": [
        {
          "name": "stdout",
          "output_type": "stream",
          "text": [
            "[0 1 2 3 4 5 6 7 8 9]\n"
          ]
        }
      ],
      "source": [
        "import numpy as np\n",
        "\n",
        "array = np.arange(10)\n",
        "\n",
        "print(array)"
      ]
    },
    {
      "cell_type": "markdown",
      "metadata": {
        "id": "UYzIzPyB3Ne3"
      },
      "source": [
        "Reshape the array into a 3x3 matrix.\n",
        "\n",
        "Explore Reshape Function"
      ]
    },
    {
      "cell_type": "code",
      "execution_count": 2,
      "metadata": {
        "id": "RLlzDCBc2Q_P"
      },
      "outputs": [
        {
          "name": "stdout",
          "output_type": "stream",
          "text": [
            "[[0 1 2]\n",
            " [3 4 5]\n",
            " [6 7 8]]\n"
          ]
        }
      ],
      "source": [
        "import numpy as np\n",
        "\n",
        "array = np.arange(9)\n",
        "\n",
        "matrix = array.reshape(3, 3)\n",
        "\n",
        "print(matrix)"
      ]
    },
    {
      "cell_type": "markdown",
      "metadata": {
        "id": "KmhRK9Ti3Phn"
      },
      "source": [
        "Access the element at the second row, second column.\n"
      ]
    },
    {
      "cell_type": "code",
      "execution_count": 3,
      "metadata": {
        "id": "Dk_a1D3A3ijN"
      },
      "outputs": [
        {
          "name": "stdout",
          "output_type": "stream",
          "text": [
            "4\n"
          ]
        }
      ],
      "source": [
        "import numpy as np\n",
        "\n",
        "array = np.arange(9)\n",
        "\n",
        "matrix = array.reshape(3, 3)\n",
        "\n",
        "element = matrix[1, 1]\n",
        "\n",
        "print(element)"
      ]
    },
    {
      "cell_type": "markdown",
      "metadata": {
        "id": "NlH7N-fZ36wc"
      },
      "source": [
        "Perform element-wise addition, subtraction, multiplication, and division on two arrays [1, 2, 3] and [4, 5, 6].\n"
      ]
    },
    {
      "cell_type": "code",
      "execution_count": 7,
      "metadata": {
        "id": "PkgNSo1a37kP"
      },
      "outputs": [
        {
          "name": "stdout",
          "output_type": "stream",
          "text": [
            "Addition: [5 7 9]\n",
            "Subtraction: [-3 -3 -3]\n",
            "Multiplication: [ 4 10 18]\n",
            "Division: [0.25 0.4  0.5 ]\n"
          ]
        }
      ],
      "source": [
        "import numpy as np\n",
        "\n",
        "array1 = np.array([1, 2, 3])\n",
        "array2 = np.array([4, 5, 6])\n",
        "\n",
        "addition = array1 + array2\n",
        "print(\"Addition:\", addition)\n",
        "\n",
        "subtraction = array1 - array2\n",
        "print(\"Subtraction:\", subtraction)\n",
        "\n",
        "multiplication = array1 * array2\n",
        "print(\"Multiplication:\", multiplication)\n",
        "\n",
        "division = array1 / array2\n",
        "print(\"Division:\", division)"
      ]
    },
    {
      "cell_type": "markdown",
      "metadata": {
        "id": "JVt4zxkk8e0P"
      },
      "source": [
        "Find the sum, mean, and standard deviation of the array [1, 2, 3, 4, 5].\n"
      ]
    },
    {
      "cell_type": "code",
      "execution_count": 5,
      "metadata": {
        "id": "mQZxaZ0c8nhh"
      },
      "outputs": [
        {
          "name": "stdout",
          "output_type": "stream",
          "text": [
            "Sum: 15\n",
            "Mean: 3.0\n",
            "Standard Deviation: 1.4142135623730951\n"
          ]
        }
      ],
      "source": [
        "import numpy as np\n",
        "\n",
        "array = np.array([1, 2, 3, 4, 5])\n",
        "\n",
        "sum_array = np.sum(array)\n",
        "mean_array = np.mean(array)\n",
        "std_dev_array = np.std(array)\n",
        "\n",
        "print(\"Sum:\", sum_array)\n",
        "print(\"Mean:\", mean_array)\n",
        "print(\"Standard Deviation:\", std_dev_array)"
      ]
    },
    {
      "cell_type": "markdown",
      "metadata": {
        "id": "ji2XvW0Z8nn5"
      },
      "source": [
        "Reshape the array [1, 2, 3, 4, 5, 6] into a 2x3 array.\n",
        "\n",
        "Explore Reshape"
      ]
    },
    {
      "cell_type": "code",
      "execution_count": 6,
      "metadata": {
        "id": "FNbYlzyI8rAx"
      },
      "outputs": [
        {
          "name": "stdout",
          "output_type": "stream",
          "text": [
            "[[1 2 3]\n",
            " [4 5 6]]\n"
          ]
        }
      ],
      "source": [
        "import numpy as np\n",
        "\n",
        "array = np.array([1, 2, 3, 4, 5, 6])\n",
        "\n",
        "reshaped_array = array.reshape(2, 3)\n",
        "\n",
        "print(reshaped_array)"
      ]
    },
    {
      "cell_type": "markdown",
      "metadata": {
        "id": "OE-5o0th3SU4"
      },
      "source": [
        "\n",
        "# **2. Indexing and Slicing:**\n"
      ]
    },
    {
      "cell_type": "markdown",
      "metadata": {
        "id": "yqNKWBOl3an3"
      },
      "source": [
        "Create a 5x5 array with random integers.\n"
      ]
    },
    {
      "cell_type": "code",
      "execution_count": 8,
      "metadata": {
        "id": "G-kX4nme2RBn"
      },
      "outputs": [
        {
          "data": {
            "text/plain": [
              "array([[13, 27, 24, 56, 11],\n",
              "       [ 7, 42, 20, 97, 21],\n",
              "       [59, 73, 43, 38,  6],\n",
              "       [37, 86, 90, 36, 34],\n",
              "       [23,  6, 95, 94, 51]])"
            ]
          },
          "execution_count": 8,
          "metadata": {},
          "output_type": "execute_result"
        }
      ],
      "source": [
        "random_array = np.random.randint(0,100, size=(5,5))\n",
        "random_array"
      ]
    },
    {
      "cell_type": "markdown",
      "metadata": {
        "id": "LlilKAMF3bMX"
      },
      "source": [
        "Replace all values in the sub-array with a specific value.\n"
      ]
    },
    {
      "cell_type": "code",
      "execution_count": 10,
      "metadata": {
        "id": "gShfqRGm2REI"
      },
      "outputs": [
        {
          "data": {
            "text/plain": [
              "array([[10, 10, 10, 10, 10],\n",
              "       [10, 10, 10, 10, 10],\n",
              "       [10, 10, 10, 10, 10],\n",
              "       [10, 10, 10, 10, 10],\n",
              "       [10, 10, 10, 10, 10]])"
            ]
          },
          "execution_count": 10,
          "metadata": {},
          "output_type": "execute_result"
        }
      ],
      "source": [
        "random_array_value = random_array[:,1:4] = 10\n",
        "random_array"
      ]
    },
    {
      "cell_type": "markdown",
      "metadata": {
        "id": "1kUY7u023gfF"
      },
      "source": [
        "Extract the subarray [[3, 4], [7, 8]] from the array [[1, 2], [3, 4], [5, 6], [7, 8]].\n"
      ]
    },
    {
      "cell_type": "code",
      "execution_count": 14,
      "metadata": {
        "id": "UmgqjBwC3_4V"
      },
      "outputs": [
        {
          "data": {
            "text/plain": [
              "array([[3, 4],\n",
              "       [7, 8]])"
            ]
          },
          "execution_count": 14,
          "metadata": {},
          "output_type": "execute_result"
        }
      ],
      "source": [
        "arr = np.array([[1,2],[3,4],[5,6],[7,8]])\n",
        "arr\n",
        "arr[[1,3]]"
      ]
    },
    {
      "cell_type": "markdown",
      "metadata": {
        "id": "vPrCHS_O3jK9"
      },
      "source": [
        "\n",
        "# **3. Broadcasting:**"
      ]
    },
    {
      "cell_type": "markdown",
      "metadata": {
        "id": "W3WUM5Cc3phc"
      },
      "source": [
        "Create a 2D array of shape (3, 3) with values from 0 to 2.\n"
      ]
    },
    {
      "cell_type": "code",
      "execution_count": 16,
      "metadata": {
        "id": "PxJrAlFW2RGw"
      },
      "outputs": [
        {
          "data": {
            "text/plain": [
              "array([[0, 1, 2],\n",
              "       [0, 1, 2],\n",
              "       [0, 1, 2]])"
            ]
          },
          "execution_count": 16,
          "metadata": {},
          "output_type": "execute_result"
        }
      ],
      "source": [
        "array = np.array([0,1,2])\n",
        "array\n",
        "\n",
        "#title\n",
        "\n",
        "new_array = np.tile(array, (3,1))\n",
        "new_array\n"
      ]
    },
    {
      "cell_type": "markdown",
      "metadata": {
        "id": "J5XPwN3A3rXG"
      },
      "source": [
        "Add a 1D array of shape (3,) to each row of the 2D array using broadcasting.\n"
      ]
    },
    {
      "cell_type": "code",
      "execution_count": 22,
      "metadata": {
        "id": "k4FM2g_c2RJv"
      },
      "outputs": [
        {
          "data": {
            "text/plain": [
              "array([[0, 2, 4],\n",
              "       [0, 2, 4],\n",
              "       [0, 2, 4]])"
            ]
          },
          "execution_count": 22,
          "metadata": {},
          "output_type": "execute_result"
        }
      ],
      "source": [
        "array_1d = np.array([0,1,2])\n",
        "array_1d +new_array\n",
        "\n"
      ]
    },
    {
      "cell_type": "markdown",
      "metadata": {
        "id": "9CbtQS3w4PA3"
      },
      "source": [
        "# **4. Concatenation and Splitting**"
      ]
    },
    {
      "cell_type": "markdown",
      "metadata": {
        "id": "yMg_umVy4ILG"
      },
      "source": [
        "\n",
        "1.   Create two 2D arrays of shape (3, 3) with random integers.\n",
        "2.   Concatenate them horizontally and vertically.\n",
        "3.   Split the concatenated arrays back into the original arrays.\n"
      ]
    },
    {
      "cell_type": "code",
      "execution_count": 27,
      "metadata": {
        "id": "wXiCa2Sn8XHP"
      },
      "outputs": [
        {
          "data": {
            "text/plain": [
              "array([[53, 79, 96],\n",
              "       [51, 49, 74],\n",
              "       [87, 62, 86]])"
            ]
          },
          "execution_count": 27,
          "metadata": {},
          "output_type": "execute_result"
        }
      ],
      "source": [
        "random_array1 = np.random.randint(0,100, size=(3,3))\n",
        "random_array1"
      ]
    },
    {
      "cell_type": "code",
      "execution_count": 28,
      "metadata": {
        "id": "yAiYe6vj8XSW"
      },
      "outputs": [
        {
          "data": {
            "text/plain": [
              "array([[13, 46, 88],\n",
              "       [48, 42, 18],\n",
              "       [19,  0, 35]])"
            ]
          },
          "execution_count": 28,
          "metadata": {},
          "output_type": "execute_result"
        }
      ],
      "source": [
        "random_array2 = np.random.randint(0,100, size=(3,3))\n",
        "random_array2"
      ]
    },
    {
      "cell_type": "code",
      "execution_count": 29,
      "metadata": {
        "id": "lgMsjt-J8XZK"
      },
      "outputs": [
        {
          "data": {
            "text/plain": [
              "array([[53, 79, 96, 13, 46, 88],\n",
              "       [51, 49, 74, 48, 42, 18],\n",
              "       [87, 62, 86, 19,  0, 35]])"
            ]
          },
          "execution_count": 29,
          "metadata": {},
          "output_type": "execute_result"
        }
      ],
      "source": [
        "# hstack  vstack\n",
        "\n",
        "concatenated_horizontally = np.hstack((random_array1,random_array2))\n",
        "concatenated_horizontally"
      ]
    },
    {
      "cell_type": "code",
      "execution_count": 31,
      "metadata": {},
      "outputs": [
        {
          "data": {
            "text/plain": [
              "array([[53, 79, 96],\n",
              "       [51, 49, 74],\n",
              "       [87, 62, 86],\n",
              "       [13, 46, 88],\n",
              "       [48, 42, 18],\n",
              "       [19,  0, 35]])"
            ]
          },
          "execution_count": 31,
          "metadata": {},
          "output_type": "execute_result"
        }
      ],
      "source": [
        "# vstack  vstack\n",
        "\n",
        "concatenated_vertically = np.vstack((random_array1,random_array2))\n",
        "concatenated_vertically"
      ]
    },
    {
      "cell_type": "code",
      "execution_count": 32,
      "metadata": {},
      "outputs": [
        {
          "data": {
            "text/plain": [
              "[array([[53, 79, 96],\n",
              "        [51, 49, 74],\n",
              "        [87, 62, 86]]),\n",
              " array([[13, 46, 88],\n",
              "        [48, 42, 18],\n",
              "        [19,  0, 35]])]"
            ]
          },
          "execution_count": 32,
          "metadata": {},
          "output_type": "execute_result"
        }
      ],
      "source": [
        "# hsplit & vsplit\n",
        "\n",
        "splitted_array = np.hsplit(concatenated_horizontally,2)\n",
        "splitted_array"
      ]
    },
    {
      "cell_type": "code",
      "execution_count": 34,
      "metadata": {},
      "outputs": [
        {
          "data": {
            "text/plain": [
              "[array([[53, 79, 96],\n",
              "        [51, 49, 74]]),\n",
              " array([[87, 62, 86],\n",
              "        [13, 46, 88]]),\n",
              " array([[48, 42, 18],\n",
              "        [19,  0, 35]])]"
            ]
          },
          "execution_count": 34,
          "metadata": {},
          "output_type": "execute_result"
        }
      ],
      "source": [
        "# vsplit\n",
        "\n",
        "splitted_array = np.vsplit(concatenated_vertically,3)\n",
        "splitted_array"
      ]
    },
    {
      "cell_type": "markdown",
      "metadata": {
        "id": "2CliNLH8YG3j"
      },
      "source": [
        "# **Bonus Question**\n",
        "\n",
        "Find mode of this array  = [1,2,1,2,3,4,5,6,8,9,1,2,2,22,21,1,1,1,1,2,5]\n",
        "\n",
        "Hint: Use count and also loop"
      ]
    },
    {
      "cell_type": "code",
      "execution_count": 39,
      "metadata": {
        "id": "JGe2Qe3SYaHq"
      },
      "outputs": [
        {
          "name": "stdout",
          "output_type": "stream",
          "text": [
            "Mode of the array: 1\n"
          ]
        }
      ],
      "source": [
        "array = [1, 2, 1, 2, 3, 4, 5, 6, 8, 9, 1, 2, 2, 22, 21, 1, 1, 1, 1, 2, 5]\n",
        "\n",
        "mode = None\n",
        "max_count = 0\n",
        "\n",
        "for num in array:\n",
        "    count = array.count(num)\n",
        "    if count > max_count:\n",
        "        mode = num\n",
        "        max_count = count\n",
        "\n",
        "print(\"Mode of the array:\", mode)"
      ]
    },
    {
      "cell_type": "markdown",
      "metadata": {
        "id": "1t9n5GQdYbHN"
      },
      "source": [
        "# **Notes**\n",
        "\n",
        "\n",
        "1.   All the Questions carry Equal Points (2 points)\n",
        "\n",
        "2.   Bonus Question carry 5 points\n",
        "\n",
        "3.   Review lecture for any query\n",
        "\n",
        "Good Luck!\n",
        "\n"
      ]
    },
    {
      "cell_type": "code",
      "execution_count": null,
      "metadata": {
        "id": "yxT9-gJfYugV"
      },
      "outputs": [],
      "source": []
    }
  ],
  "metadata": {
    "colab": {
      "provenance": []
    },
    "kernelspec": {
      "display_name": "Python 3",
      "name": "python3"
    },
    "language_info": {
      "codemirror_mode": {
        "name": "ipython",
        "version": 3
      },
      "file_extension": ".py",
      "mimetype": "text/x-python",
      "name": "python",
      "nbconvert_exporter": "python",
      "pygments_lexer": "ipython3",
      "version": "3.11.5"
    }
  },
  "nbformat": 4,
  "nbformat_minor": 0
}
